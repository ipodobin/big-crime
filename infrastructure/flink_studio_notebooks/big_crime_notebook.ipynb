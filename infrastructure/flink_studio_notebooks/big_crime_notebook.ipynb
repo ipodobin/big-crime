﻿{
  "metadata": {
    "name": "big_crime_notebook",
    "kernelspec": {
      "language": "scala",
      "name": "spark2-scala"
    },
    "language_info": {
      "codemirror_mode": "text/x-scala",
      "file_extension": ".scala",
      "mimetype": "text/x-scala",
      "name": "scala",
      "pygments_lexer": "scala"
    }
  },
  "nbformat": 4,
  "nbformat_minor": 2,
  "cells": [
    {
      "cell_type": "code",
      "execution_count": 0,
      "metadata": {
        "autoscroll": "auto"
      },
      "outputs": [],
      "source": "%flink.ssql(type\u003dupdate)\nDROP TABLE big_crime_input_table;\nDROP TABLE big_crime_output_table;"
    },
    {
      "cell_type": "code",
      "execution_count": 1,
      "metadata": {
        "autoscroll": "auto"
      },
      "outputs": [],
      "source": "%flink.ssql(type\u003dupdate)\nCREATE TABLE big_crime_input_table (\n    event_time TIMESTAMP(3),\n    block STRING,\n    primary_type STRING,\n    location_description STRING,\n    arrest STRING,\n    district STRING,\n    ward STRING,\n    community_area STRING,\n    WATERMARK FOR event_time AS event_time - INTERVAL \u00275\u0027 SECOND\n)\nPARTITIONED BY (community_area)\nWITH (\n  \u0027connector\u0027 \u003d \u0027kinesis\u0027,\n  \u0027stream\u0027 \u003d \u0027big-crime-stream-crimes\u0027,\n  \u0027aws.region\u0027 \u003d \u0027us-east-1\u0027,\n  \u0027scan.stream.initpos\u0027 \u003d \u0027LATEST\u0027,\n  \u0027format\u0027 \u003d \u0027json\u0027\n);"
    },
    {
      "cell_type": "code",
      "execution_count": 2,
      "metadata": {
        "autoscroll": "auto"
      },
      "outputs": [],
      "source": "%flink.ssql(type\u003dupdate)\nCREATE TABLE big_crime_output_table (\n    community_area STRING,\n    arrest STRING,\n    cnt BIGINT,\n    event_time VARCHAR(64)\n)\nPARTITIONED BY (community_area)\nWITH (\n    \u0027connector\u0027 \u003d \u0027kinesis\u0027,\n    \u0027stream\u0027 \u003d \u0027big-crime-stream-summary\u0027,\n    \u0027aws.region\u0027 \u003d \u0027us-east-1\u0027,\n    \u0027format\u0027 \u003d \u0027json\u0027\n);"
    },
    {
      "cell_type": "code",
      "execution_count": 3,
      "metadata": {
        "autoscroll": "auto"
      },
      "outputs": [],
      "source": "%flink.ssql(type\u003dupdate)\nselect * from big_data_stream_data"
    },
    {
      "cell_type": "code",
      "execution_count": 4,
      "metadata": {
        "autoscroll": "auto"
      },
      "outputs": [],
      "source": "%flink.ssql(type\u003dupdate)\n\nSELECT \n    community_area, \n    count(1) AS cnt\nFROM big_data_stream_data\nWHERE community_area IS NOT NULL\nGROUP BY community_area\n\n"
    },
    {
      "cell_type": "code",
      "execution_count": 5,
      "metadata": {
        "autoscroll": "auto"
      },
      "outputs": [],
      "source": "%flink.ssql(type\u003dupdate)\n\nSELECT \n   primary_type, \n    COUNT(1) AS cnt\nFROM big_data_stream_data\nGROUP BY primary_type"
    },
    {
      "cell_type": "code",
      "execution_count": 6,
      "metadata": {
        "autoscroll": "auto"
      },
      "outputs": [],
      "source": "%flink.ssql(type\u003dupdate)\n\nSELECT \n   location_description, \n    count(1) AS cnt\nFROM big_data_stream_data\nGROUP BY location_description"
    },
    {
      "cell_type": "code",
      "execution_count": 7,
      "metadata": {
        "autoscroll": "auto"
      },
      "outputs": [],
      "source": "%flink.ssql(type\u003dupdate)\n\nSELECT window_start, COUNT(1) AS cnt\n  FROM TABLE(\n    TUMBLE(TABLE big_crime_input_table, DESCRIPTOR(event_time), INTERVAL \u002710\u0027 SECOND))\n  GROUP BY window_start, window_end;"
    },
    {
      "cell_type": "code",
      "execution_count": 8,
      "metadata": {
        "autoscroll": "auto"
      },
      "outputs": [],
      "source": "%flink.ssql\n"
    }
  ]
}