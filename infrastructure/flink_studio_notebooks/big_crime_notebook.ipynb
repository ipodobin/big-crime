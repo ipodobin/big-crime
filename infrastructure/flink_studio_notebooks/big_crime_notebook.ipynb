﻿{
  "metadata": {
    "name": "note_1",
    "kernelspec": {
      "language": "scala",
      "name": "spark2-scala"
    },
    "language_info": {
      "codemirror_mode": "text/x-scala",
      "file_extension": ".scala",
      "mimetype": "text/x-scala",
      "name": "scala",
      "pygments_lexer": "scala"
    }
  },
  "nbformat": 4,
  "nbformat_minor": 2,
  "cells": [
    {
      "cell_type": "code",
      "execution_count": 0,
      "metadata": {
        "autoscroll": "auto"
      },
      "outputs": [],
      "source": "%flink.ssql(type\u003dupdate)\nDROP TABLE big_data_stream_data"
    },
    {
      "cell_type": "code",
      "execution_count": 1,
      "metadata": {
        "autoscroll": "auto"
      },
      "outputs": [],
      "source": "%flink.ssql(type\u003dupdate)\nCREATE TABLE big_data_stream_data (\n  `id` BIGINT,\n  `date` TIMESTAMP(3),\n  `block` STRING,\n  `iucr` STRING,\n  `primary_type` STRING,\n  `description` STRING,\n  `location_description` STRING,\n  `arrest` STRING,\n  `domestic` STRING,\n  `beat` STRING,\n  `district` STRING,\n  `ward` STRING,\n  `community_area` STRING,\n  `fbi_code` STRING,\n  `x_coordinate` STRING,\n  `y_coordinate` STRING,\n  `year` STRING,\n  `updated_on` STRING,\n  `latitude` STRING,\n  WATERMARK FOR  `date` AS  `date`\n)\nPARTITIONED BY (`date`, block)\nWITH (\n  \u0027connector\u0027 \u003d \u0027kinesis\u0027,\n  \u0027stream\u0027 \u003d \u0027bigcrime-streaming\u0027,\n  \u0027aws.region\u0027 \u003d \u0027us-east-1\u0027,\n  \u0027scan.stream.initpos\u0027 \u003d \u0027LATEST\u0027,\n  \u0027format\u0027 \u003d \u0027json\u0027\n);"
    },
    {
      "cell_type": "code",
      "execution_count": 2,
      "metadata": {
        "autoscroll": "auto"
      },
      "outputs": [],
      "source": "%flink.ssql(type\u003dupdate)\nselect * from big_data_stream_data"
    },
    {
      "cell_type": "code",
      "execution_count": 3,
      "metadata": {
        "autoscroll": "auto"
      },
      "outputs": [],
      "source": "%flink.ssql(type\u003dupdate)\n\nSELECT \n    community_area, \n    count(1) AS cnt\nFROM big_data_stream_data\nWHERE community_area IS NOT NULL\nGROUP BY community_area\n\n"
    },
    {
      "cell_type": "code",
      "execution_count": 4,
      "metadata": {
        "autoscroll": "auto"
      },
      "outputs": [],
      "source": "%flink.ssql(type\u003dupdate)\n\nSELECT \n    DAYOFWEEK(`date`), \n    count(1) AS cnt\nFROM big_data_stream_data\nGROUP BY DAYOFWEEK(`date`)\n\n"
    },
    {
      "cell_type": "code",
      "execution_count": 5,
      "metadata": {
        "autoscroll": "auto"
      },
      "outputs": [],
      "source": "%flink.ssql(type\u003dupdate)\n\nSELECT \n   primary_type, \n    COUNT(1) AS cnt\nFROM big_data_stream_data\nGROUP BY primary_type"
    },
    {
      "cell_type": "code",
      "execution_count": 6,
      "metadata": {
        "autoscroll": "auto"
      },
      "outputs": [],
      "source": "%flink.ssql(type\u003dupdate)\n\nSELECT \n   location_description, \n    count(1) AS cnt\nFROM big_data_stream_data\nGROUP BY location_description"
    },
    {
      "cell_type": "code",
      "execution_count": 7,
      "metadata": {
        "autoscroll": "auto"
      },
      "outputs": [],
      "source": "%flink.ssql(type\u003dupdate)\n\nSELECT YEAR(window_start) AS _year, MONTH(window_start) AS _month, DAYOFMONTH(window_start) AS _day, COUNT(1) AS cnt\n  FROM TABLE(\n    TUMBLE(TABLE big_data_stream_data, DESCRIPTOR(`date`), INTERVAL \u00271\u0027 DAY))\n  GROUP BY window_start, window_end;"
    },
    {
      "cell_type": "code",
      "execution_count": 8,
      "metadata": {
        "autoscroll": "auto"
      },
      "outputs": [],
      "source": "%flink.ssql(type\u003dupdate)\n\nSELECT window_start, COUNT(1) AS cnt\n  FROM TABLE(\n    TUMBLE(TABLE big_data_stream_data, DESCRIPTOR(`date`), INTERVAL \u00271\u0027 DAY))\n  GROUP BY window_start, window_end;"
    },
    {
      "cell_type": "code",
      "execution_count": 9,
      "metadata": {
        "autoscroll": "auto"
      },
      "outputs": [],
      "source": "%flink.ssql(type\u003dupdate)\n\nSELECT window_start, COUNT(1) AS cnt\n  FROM TABLE(\n    TUMBLE(TABLE big_data_stream_data, DESCRIPTOR(`date`), INTERVAL \u002730\u0027 DAY))\n  GROUP BY window_start, window_end;"
    },
    {
      "cell_type": "code",
      "execution_count": 10,
      "metadata": {
        "autoscroll": "auto"
      },
      "outputs": [],
      "source": "%flink.ssql\n"
    }
  ]
}