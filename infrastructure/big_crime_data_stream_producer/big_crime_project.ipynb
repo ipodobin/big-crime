{
  "nbformat": 4,
  "nbformat_minor": 0,
  "metadata": {
    "colab": {
      "provenance": []
    },
    "kernelspec": {
      "name": "python3",
      "display_name": "Python 3"
    },
    "language_info": {
      "name": "python"
    }
  },
  "cells": [
    {
      "cell_type": "code",
      "source": [
        "!pip install boto3"
      ],
      "metadata": {
        "colab": {
          "base_uri": "https://localhost:8080/"
        },
        "collapsed": true,
        "id": "es33ef_mEB5Q",
        "outputId": "4ead0f1c-42f9-4265-e191-353cfb314872"
      },
      "execution_count": 3,
      "outputs": [
        {
          "output_type": "stream",
          "name": "stdout",
          "text": [
            "Collecting boto3\n",
            "  Downloading boto3-1.34.121-py3-none-any.whl (139 kB)\n",
            "\u001b[2K     \u001b[90m━━━━━━━━━━━━━━━━━━━━━━━━━━━━━━━━━━━━━━━━\u001b[0m \u001b[32m139.3/139.3 kB\u001b[0m \u001b[31m6.2 MB/s\u001b[0m eta \u001b[36m0:00:00\u001b[0m\n",
            "\u001b[?25hCollecting botocore<1.35.0,>=1.34.121 (from boto3)\n",
            "  Downloading botocore-1.34.121-py3-none-any.whl (12.3 MB)\n",
            "\u001b[2K     \u001b[90m━━━━━━━━━━━━━━━━━━━━━━━━━━━━━━━━━━━━━━━━\u001b[0m \u001b[32m12.3/12.3 MB\u001b[0m \u001b[31m116.9 MB/s\u001b[0m eta \u001b[36m0:00:00\u001b[0m\n",
            "\u001b[?25hCollecting jmespath<2.0.0,>=0.7.1 (from boto3)\n",
            "  Downloading jmespath-1.0.1-py3-none-any.whl (20 kB)\n",
            "Collecting s3transfer<0.11.0,>=0.10.0 (from boto3)\n",
            "  Downloading s3transfer-0.10.1-py3-none-any.whl (82 kB)\n",
            "\u001b[2K     \u001b[90m━━━━━━━━━━━━━━━━━━━━━━━━━━━━━━━━━━━━━━━━\u001b[0m \u001b[32m82.2/82.2 kB\u001b[0m \u001b[31m14.3 MB/s\u001b[0m eta \u001b[36m0:00:00\u001b[0m\n",
            "\u001b[?25hRequirement already satisfied: python-dateutil<3.0.0,>=2.1 in /usr/local/lib/python3.10/dist-packages (from botocore<1.35.0,>=1.34.121->boto3) (2.8.2)\n",
            "Requirement already satisfied: urllib3!=2.2.0,<3,>=1.25.4 in /usr/local/lib/python3.10/dist-packages (from botocore<1.35.0,>=1.34.121->boto3) (2.0.7)\n",
            "Requirement already satisfied: six>=1.5 in /usr/local/lib/python3.10/dist-packages (from python-dateutil<3.0.0,>=2.1->botocore<1.35.0,>=1.34.121->boto3) (1.16.0)\n",
            "Installing collected packages: jmespath, botocore, s3transfer, boto3\n",
            "Successfully installed boto3-1.34.121 botocore-1.34.121 jmespath-1.0.1 s3transfer-0.10.1\n"
          ]
        }
      ]
    },
    {
      "cell_type": "code",
      "execution_count": null,
      "metadata": {
        "id": "R91_lWbhBEoE"
      },
      "outputs": [],
      "source": [
        "class KinesisStream:\n",
        "    \"\"\"Encapsulates a Kinesis stream.\"\"\"\n",
        "\n",
        "    def __init__(self, kinesis_client):\n",
        "        \"\"\"\n",
        "        :param kinesis_client: A Boto3 Kinesis client.\n",
        "        \"\"\"\n",
        "        self.kinesis_client = kinesis_client\n",
        "        self.name = None\n",
        "        self.details = None\n",
        "        self.stream_exists_waiter = kinesis_client.get_waiter(\"stream_exists\")\n",
        "\n",
        "\n",
        "    def put_record(self, data, partition_key):\n",
        "        \"\"\"\n",
        "        Puts data into the stream. The data is formatted as JSON before it is passed\n",
        "        to the stream.\n",
        "\n",
        "        :param data: The data to put in the stream.\n",
        "        :param partition_key: The partition key to use for the data.\n",
        "        :return: Metadata about the record, including its shard ID and sequence number.\n",
        "        \"\"\"\n",
        "        try:\n",
        "            response = self.kinesis_client.put_record(\n",
        "                StreamName=self.name, Data=json.dumps(data), PartitionKey=partition_key\n",
        "            )\n",
        "            logger.info(\"Put record in stream %s.\", self.name)\n",
        "        except ClientError:\n",
        "            logger.exception(\"Couldn't put record in stream %s.\", self.name)\n",
        "            raise\n",
        "        else:\n",
        "            return response"
      ]
    },
    {
      "cell_type": "code",
      "source": [
        "import configparser\n",
        "\n",
        "sample_config = \"\"\"\n",
        "\n",
        "[default]\n",
        "aws_access_key_id=\n",
        "aws_secret_access_key=\n",
        "aws_session_token=\n",
        "\n",
        "\"\"\"\n",
        "config = configparser.ConfigParser(allow_no_value=True)\n",
        "config.read_string(sample_config)\n",
        "\n",
        "aws_access_key_id = config[\"default\"][\"aws_access_key_id\"]\n",
        "aws_secret_access_key = config[\"default\"][\"aws_secret_access_key\"]\n",
        "aws_session_token = config[\"default\"][\"aws_session_token\"]"
      ],
      "metadata": {
        "id": "QvW59ZCCEpR0"
      },
      "execution_count": 5,
      "outputs": []
    },
    {
      "cell_type": "code",
      "source": [
        "import boto3\n",
        "import json\n",
        "\n",
        "session = boto3.Session(\n",
        "   aws_access_key_id=aws_access_key_id,\n",
        "   aws_secret_access_key=aws_secret_access_key,\n",
        "   aws_session_token=aws_session_token\n",
        ")\n",
        "\n",
        "kinesis_client = session.client(\n",
        "   \"kinesis\",\n",
        "   region_name='us-east-1'\n",
        ")"
      ],
      "metadata": {
        "id": "DSU_cv8AChUu"
      },
      "execution_count": 6,
      "outputs": []
    },
    {
      "cell_type": "code",
      "source": [
        "community_areas = {\n",
        "  \"1\":  \"Rogers Park\",\n",
        "  \"2\":  \"West Ridge\",\n",
        "  \"3\":  \"Uptown\",\n",
        "  \"4\":  \"Lincoln Square\",\n",
        "  \"5\":  \"North Center\",\n",
        "  \"6\":  \"Lake View\",\n",
        "  \"7\":  \"Lincoln Park\",\n",
        "  \"8\":  \"Near North Side\",\n",
        "  \"9\":  \"Edison Park \",\n",
        "  \"10\":     \"Norwood Park\",\n",
        "  \"11\":     \"Jefferson Park\",\n",
        "  \"12\":     \"Forest Glen\",\n",
        "  \"13\":     \"North Park\",\n",
        "  \"14\":     \"Albany Park\",\n",
        "  \"15\":     \"Portage Park\",\n",
        "  \"16\":     \"Irving Park\",\n",
        "  \"17\":     \"Dunning\",\n",
        "  \"18\":     \"Montclare\",\n",
        "  \"19\":     \"Belmont Cragin\",\n",
        "  \"20\":     \"Hermosa\",\n",
        "  \"21\":     \"Avondale\",\n",
        "  \"22\":     \"Logan Square\",\n",
        "  \"23\":     \"Humboldt Park\",\n",
        "  \"24\":     \"West Town\",\n",
        "  \"25\":     \"Austin\",\n",
        "  \"26\":     \"West Garfield Park\",\n",
        "  \"27\":     \"East Garfield Park\",\n",
        "  \"28\":     \"Near West Side\",\n",
        "  \"29\":     \"North Lawndale\",\n",
        "  \"30\":     \"South Lawndale\",\n",
        "  \"31\":     \"Lower West Side\",\n",
        "  \"32\":     \"Loop\",\n",
        "  \"33\":     \"Near South Side\",\n",
        "  \"34\":     \"Armour Square\",\n",
        "  \"35\":     \"Douglas\",\n",
        "  \"36\":     \"Oakland\",\n",
        "  \"37\":     \"Fuller Park\",\n",
        "  \"38\":     \"Grand Boulevard\",\n",
        "  \"39\":     \"Kenwood\",\n",
        "  \"40\":     \"Washington Park\",\n",
        "  \"41\":     \"Hyde Park\",\n",
        "  \"42\":     \"Woodlawn\",\n",
        "  \"43\":     \"South Shore\",\n",
        "  \"44\":     \"Chatham\",\n",
        "  \"45\":     \"Avalon Park\",\n",
        "  \"46\":     \"South Chicago\",\n",
        "  \"47\":     \"Burnside\",\n",
        "  \"48\":     \"Calumet Heights\",\n",
        "  \"49\":     \"Roseland\",\n",
        "  \"50\":     \"Pullman\",\n",
        "  \"51\":     \"South Deering\",\n",
        "  \"52\":     \"East Side\",\n",
        "  \"53\":     \"West Pullman\",\n",
        "  \"54\":     \"Riverdale\",\n",
        "  \"55\":     \"Hegewisch\",\n",
        "  \"56\":     \"Garfield Ridge\",\n",
        "  \"57\":     \"Archer Heights\",\n",
        "  \"58\":     \"Brighton Park\",\n",
        "  \"59\":     \"McKinley Park\",\n",
        "  \"60\":     \"Bridgeport\",\n",
        "  \"61\":     \"New City\",\n",
        "  \"62\":     \"West Elsdon\",\n",
        "  \"63\":     \"Gage Park\",\n",
        "  \"64\":     \"Clearing\",\n",
        "  \"65\":     \"West Lawn\",\n",
        "  \"66\":     \"Chicago Lawn\",\n",
        "  \"67\":     \"West Englewood\",\n",
        "  \"68\":     \"Englewood\",\n",
        "  \"69\":     \"Greater Grand Crossing\",\n",
        "  \"70\":     \"Ashburn\",\n",
        "  \"71\":     \"Auburn Gresham\",\n",
        "  \"72\":     \"Beverly\" ,\n",
        "  \"73\":     \"Washington Heights\",\n",
        "  \"74\":     \"Mount Greenwood\",\n",
        "  \"75\":     \"Morgan Park\",\n",
        "  \"76\":     \"O'Hare\",\n",
        "  \"77\":     \"Edgewater\"\n",
        "}"
      ],
      "metadata": {
        "id": "ov-Y4KGpj2ai"
      },
      "execution_count": 7,
      "outputs": []
    },
    {
      "cell_type": "code",
      "source": [
        "import requests\n",
        "from datetime import datetime\n",
        "\n",
        "class BigCrimeDataReceiver:\n",
        "  def __init__(self, app_token):\n",
        "    self.app_token = app_token\n",
        "\n",
        "  def getRangeDates(self):\n",
        "    url = f\"https://data.cityofchicago.org/resource/ijzp-q8t2.json?$$app_token={self.app_token}&$select=MIN(date),MAX(date)\"\n",
        "    response = requests.get(url)\n",
        "    response_json = response.json()\n",
        "    return (\n",
        "      datetime.fromisoformat(response_json[0][\"MIN_date\"]).date(),\n",
        "      datetime.fromisoformat(response_json[0][\"MAX_date\"]).date()\n",
        "    )\n",
        "\n",
        "  def getData(self, offset, limit, date_from, date_to):\n",
        "    url = f\"https://data.cityofchicago.org/resource/ijzp-q8t2.json?$$app_token={self.app_token}&$limit={limit}&$offset={offset}&$order=date&$where=date between '{date_from}' and '{date_to}'\"\n",
        "    response = requests.get(url)\n",
        "    return response.json()\n",
        "\n",
        "\n",
        "\n"
      ],
      "metadata": {
        "id": "fyuZUGzEZnN1"
      },
      "execution_count": 8,
      "outputs": []
    },
    {
      "cell_type": "code",
      "source": [
        "data_receiver = BigCrimeDataReceiver(\n",
        "   app_token='yMG7ud7wf0svusOppJSWAJmPG'\n",
        ")\n",
        "data_receiver.getRangeDates()"
      ],
      "metadata": {
        "colab": {
          "base_uri": "https://localhost:8080/"
        },
        "id": "K92UkFPEiRv7",
        "outputId": "1ba87164-7d3b-429d-c58f-702f4fea6779"
      },
      "execution_count": 51,
      "outputs": [
        {
          "output_type": "execute_result",
          "data": {
            "text/plain": [
              "(datetime.date(2001, 1, 1), datetime.date(2024, 5, 29))"
            ]
          },
          "metadata": {},
          "execution_count": 51
        }
      ]
    },
    {
      "cell_type": "code",
      "source": [
        "step = 10\n",
        "size = 100\n",
        "for x in range(0, size-1, step):\n",
        "  print(f'{x} - {x+step-1}')"
      ],
      "metadata": {
        "colab": {
          "base_uri": "https://localhost:8080/"
        },
        "id": "m1CxDSTyAMQU",
        "outputId": "3f283b82-3a4c-4294-c940-b546a86d7b8d"
      },
      "execution_count": 18,
      "outputs": [
        {
          "output_type": "stream",
          "name": "stdout",
          "text": [
            "0 - 9\n",
            "10 - 19\n",
            "20 - 29\n",
            "30 - 39\n",
            "40 - 49\n",
            "50 - 59\n",
            "60 - 69\n",
            "70 - 79\n",
            "80 - 89\n",
            "90 - 99\n"
          ]
        }
      ]
    },
    {
      "cell_type": "code",
      "source": [
        "arr = [1,2,3,4,5,6,7,8,9,0]\n",
        "arr[6:20]"
      ],
      "metadata": {
        "colab": {
          "base_uri": "https://localhost:8080/"
        },
        "id": "HrZjMYQvDElL",
        "outputId": "b3d54093-1a1f-4b11-9e82-c3d0e7c4e63f"
      },
      "execution_count": 23,
      "outputs": [
        {
          "output_type": "execute_result",
          "data": {
            "text/plain": [
              "[7, 8, 9, 0]"
            ]
          },
          "metadata": {},
          "execution_count": 23
        }
      ]
    },
    {
      "cell_type": "code",
      "source": [
        "import requests\n",
        "import time\n",
        "import random\n",
        "from datetime import datetime, date, timedelta\n",
        "\n",
        "data_receiver = BigCrimeDataReceiver(\n",
        "   app_token='yMG7ud7wf0svusOppJSWAJmPG'\n",
        ")\n",
        "(min_date, max_date) = data_receiver.getRangeDates()\n",
        "\n",
        "limit = 10000\n",
        "offset = 0\n",
        "\n",
        "# date_from = '2024-04-29T00:00:00'\n",
        "# date_to = '2024-05-05T23:59:59'\n",
        "date_from = min_date\n",
        "count = 0\n",
        "ts_1 = time.time()\n",
        "\n",
        "while date_from < max_date:\n",
        "  date_to = date_from + timedelta(days=7)\n",
        "  print(f'requesting data from {date_from} to {date_to}')\n",
        "  while True:\n",
        "    response_json = data_receiver.getData(offset, limit, date_from, date_to)\n",
        "    # print(response_json[0])\n",
        "    size = len(response_json)\n",
        "    # print(f'response_size={size}')\n",
        "    step = 100\n",
        "    for x in range(0, size - 1, step):\n",
        "      # print(f'{x} - {x + step - 1}')\n",
        "      part = response_json[x : x + step - 1]\n",
        "      for_kinesis = []\n",
        "      for record in part:\n",
        "        # print(i, \"\\n\")\n",
        "        record['date'] = datetime.fromisoformat(record['date']).strftime(\"%Y-%m-%d %H:%M:%S\")\n",
        "        if 'community_area' in record : record['community_area'] = community_areas[record['community_area']]\n",
        "        # print(i, \"\\n\")\n",
        "        for_kinesis.append({\n",
        "          'Data': json.dumps(record),\n",
        "          'PartitionKey': record['block']\n",
        "        })\n",
        "\n",
        "      kinesis_client.put_records(\n",
        "              StreamName='bigcrime-streaming', Records=for_kinesis\n",
        "      )\n",
        "      count += len(for_kinesis)\n",
        "      ts_2 = time.time()\n",
        "      diff = ts_2 - ts_1\n",
        "      if diff > 5.0:\n",
        "        print(f'rate = {count / diff}/sec')\n",
        "        ts_1 = time.time()\n",
        "        count = 0\n",
        "      # time.sleep(random.randint(10, 100)/1000.0)\n",
        "      # print(f'{for_kinesis}')\n",
        "    if size < limit:\n",
        "      break\n",
        "    offset += limit\n",
        "  date_from = date_from + timedelta(days=8)\n",
        "  offset = 0"
      ],
      "metadata": {
        "colab": {
          "base_uri": "https://localhost:8080/",
          "height": 1000
        },
        "collapsed": true,
        "id": "Sf0u5RnYJtEu",
        "outputId": "a40fa90d-662c-4ca2-80ca-5ab5ce9cb04a"
      },
      "execution_count": 30,
      "outputs": [
        {
          "output_type": "stream",
          "name": "stdout",
          "text": [
            "requesting data from 2001-01-01 to 2001-01-08\n",
            "rate = 861.1113560170162/sec\n",
            "requesting data from 2001-01-09 to 2001-01-16\n",
            "rate = 939.4156790262856/sec\n",
            "rate = 1119.1058462268213/sec\n",
            "requesting data from 2001-01-17 to 2001-01-24\n",
            "rate = 940.2327345662626/sec\n",
            "rate = 1141.9273691951641/sec\n",
            "requesting data from 2001-01-25 to 2001-02-01\n",
            "rate = 936.8075536510506/sec\n",
            "requesting data from 2001-02-02 to 2001-02-09\n",
            "rate = 895.0305275868236/sec\n",
            "rate = 1138.0613238755157/sec\n",
            "requesting data from 2001-02-10 to 2001-02-17\n",
            "rate = 923.2972392894261/sec\n",
            "rate = 1152.6914599004642/sec\n",
            "requesting data from 2001-02-18 to 2001-02-25\n",
            "rate = 935.1995587701152/sec\n",
            "requesting data from 2001-02-26 to 2001-03-05\n",
            "rate = 934.3970828794897/sec\n",
            "rate = 1138.4343996483117/sec\n",
            "requesting data from 2001-03-06 to 2001-03-13\n",
            "rate = 920.491576190238/sec\n",
            "rate = 1145.4305622397762/sec\n",
            "requesting data from 2001-03-14 to 2001-03-21\n",
            "rate = 935.4902006133623/sec\n",
            "requesting data from 2001-03-22 to 2001-03-29\n",
            "rate = 968.9540031103618/sec\n",
            "rate = 1133.7986829238255/sec\n",
            "requesting data from 2001-03-30 to 2001-04-06\n",
            "rate = 917.964141242155/sec\n",
            "rate = 1056.8685432754403/sec\n",
            "requesting data from 2001-04-07 to 2001-04-14\n",
            "rate = 904.3445169647563/sec\n",
            "rate = 1143.339087668933/sec\n",
            "requesting data from 2001-04-15 to 2001-04-22\n",
            "rate = 930.0131146124567/sec\n",
            "rate = 1131.5410977723336/sec\n",
            "requesting data from 2001-04-23 to 2001-04-30\n",
            "rate = 948.039295878059/sec\n",
            "requesting data from 2001-05-01 to 2001-05-08\n",
            "rate = 930.9272265009266/sec\n",
            "rate = 1157.6662217411372/sec\n",
            "requesting data from 2001-05-09 to 2001-05-16\n",
            "rate = 938.3056167088857/sec\n",
            "rate = 1146.2274633673958/sec\n",
            "requesting data from 2001-05-17 to 2001-05-24\n",
            "rate = 894.183222012126/sec\n",
            "rate = 1149.219201092641/sec\n",
            "requesting data from 2001-05-25 to 2001-06-01\n",
            "rate = 932.3427261518157/sec\n",
            "rate = 1137.7944302827245/sec\n",
            "requesting data from 2001-06-02 to 2001-06-09\n",
            "rate = 910.81142480712/sec\n",
            "requesting data from 2001-06-10 to 2001-06-17\n",
            "rate = 939.9677652656873/sec\n",
            "rate = 1167.5145733153029/sec\n",
            "requesting data from 2001-06-18 to 2001-06-25\n",
            "rate = 930.1741609889455/sec\n",
            "rate = 1141.8972115382016/sec\n",
            "requesting data from 2001-06-26 to 2001-07-03\n",
            "rate = 840.6348803146113/sec\n"
          ]
        },
        {
          "output_type": "error",
          "ename": "KeyboardInterrupt",
          "evalue": "",
          "traceback": [
            "\u001b[0;31m---------------------------------------------------------------------------\u001b[0m",
            "\u001b[0;31mKeyboardInterrupt\u001b[0m                         Traceback (most recent call last)",
            "\u001b[0;32m<ipython-input-30-fb5e0276ea7f>\u001b[0m in \u001b[0;36m<cell line: 20>\u001b[0;34m()\u001b[0m\n\u001b[1;32m     41\u001b[0m         })\n\u001b[1;32m     42\u001b[0m \u001b[0;34m\u001b[0m\u001b[0m\n\u001b[0;32m---> 43\u001b[0;31m       kinesis_client.put_records(\n\u001b[0m\u001b[1;32m     44\u001b[0m               \u001b[0mStreamName\u001b[0m\u001b[0;34m=\u001b[0m\u001b[0;34m'bigcrime-streaming'\u001b[0m\u001b[0;34m,\u001b[0m \u001b[0mRecords\u001b[0m\u001b[0;34m=\u001b[0m\u001b[0mfor_kinesis\u001b[0m\u001b[0;34m\u001b[0m\u001b[0;34m\u001b[0m\u001b[0m\n\u001b[1;32m     45\u001b[0m       )\n",
            "\u001b[0;32m/usr/local/lib/python3.10/dist-packages/botocore/client.py\u001b[0m in \u001b[0;36m_api_call\u001b[0;34m(self, *args, **kwargs)\u001b[0m\n\u001b[1;32m    563\u001b[0m                 )\n\u001b[1;32m    564\u001b[0m             \u001b[0;31m# The \"self\" in this scope is referring to the BaseClient.\u001b[0m\u001b[0;34m\u001b[0m\u001b[0;34m\u001b[0m\u001b[0m\n\u001b[0;32m--> 565\u001b[0;31m             \u001b[0;32mreturn\u001b[0m \u001b[0mself\u001b[0m\u001b[0;34m.\u001b[0m\u001b[0m_make_api_call\u001b[0m\u001b[0;34m(\u001b[0m\u001b[0moperation_name\u001b[0m\u001b[0;34m,\u001b[0m \u001b[0mkwargs\u001b[0m\u001b[0;34m)\u001b[0m\u001b[0;34m\u001b[0m\u001b[0;34m\u001b[0m\u001b[0m\n\u001b[0m\u001b[1;32m    566\u001b[0m \u001b[0;34m\u001b[0m\u001b[0m\n\u001b[1;32m    567\u001b[0m         \u001b[0m_api_call\u001b[0m\u001b[0;34m.\u001b[0m\u001b[0m__name__\u001b[0m \u001b[0;34m=\u001b[0m \u001b[0mstr\u001b[0m\u001b[0;34m(\u001b[0m\u001b[0mpy_operation_name\u001b[0m\u001b[0;34m)\u001b[0m\u001b[0;34m\u001b[0m\u001b[0;34m\u001b[0m\u001b[0m\n",
            "\u001b[0;32m/usr/local/lib/python3.10/dist-packages/botocore/client.py\u001b[0m in \u001b[0;36m_make_api_call\u001b[0;34m(self, operation_name, api_params)\u001b[0m\n\u001b[1;32m    999\u001b[0m             )\n\u001b[1;32m   1000\u001b[0m             \u001b[0mapply_request_checksum\u001b[0m\u001b[0;34m(\u001b[0m\u001b[0mrequest_dict\u001b[0m\u001b[0;34m)\u001b[0m\u001b[0;34m\u001b[0m\u001b[0;34m\u001b[0m\u001b[0m\n\u001b[0;32m-> 1001\u001b[0;31m             http, parsed_response = self._make_request(\n\u001b[0m\u001b[1;32m   1002\u001b[0m                 \u001b[0moperation_model\u001b[0m\u001b[0;34m,\u001b[0m \u001b[0mrequest_dict\u001b[0m\u001b[0;34m,\u001b[0m \u001b[0mrequest_context\u001b[0m\u001b[0;34m\u001b[0m\u001b[0;34m\u001b[0m\u001b[0m\n\u001b[1;32m   1003\u001b[0m             )\n",
            "\u001b[0;32m/usr/local/lib/python3.10/dist-packages/botocore/client.py\u001b[0m in \u001b[0;36m_make_request\u001b[0;34m(self, operation_model, request_dict, request_context)\u001b[0m\n\u001b[1;32m   1025\u001b[0m     \u001b[0;32mdef\u001b[0m \u001b[0m_make_request\u001b[0m\u001b[0;34m(\u001b[0m\u001b[0mself\u001b[0m\u001b[0;34m,\u001b[0m \u001b[0moperation_model\u001b[0m\u001b[0;34m,\u001b[0m \u001b[0mrequest_dict\u001b[0m\u001b[0;34m,\u001b[0m \u001b[0mrequest_context\u001b[0m\u001b[0;34m)\u001b[0m\u001b[0;34m:\u001b[0m\u001b[0;34m\u001b[0m\u001b[0;34m\u001b[0m\u001b[0m\n\u001b[1;32m   1026\u001b[0m         \u001b[0;32mtry\u001b[0m\u001b[0;34m:\u001b[0m\u001b[0;34m\u001b[0m\u001b[0;34m\u001b[0m\u001b[0m\n\u001b[0;32m-> 1027\u001b[0;31m             \u001b[0;32mreturn\u001b[0m \u001b[0mself\u001b[0m\u001b[0;34m.\u001b[0m\u001b[0m_endpoint\u001b[0m\u001b[0;34m.\u001b[0m\u001b[0mmake_request\u001b[0m\u001b[0;34m(\u001b[0m\u001b[0moperation_model\u001b[0m\u001b[0;34m,\u001b[0m \u001b[0mrequest_dict\u001b[0m\u001b[0;34m)\u001b[0m\u001b[0;34m\u001b[0m\u001b[0;34m\u001b[0m\u001b[0m\n\u001b[0m\u001b[1;32m   1028\u001b[0m         \u001b[0;32mexcept\u001b[0m \u001b[0mException\u001b[0m \u001b[0;32mas\u001b[0m \u001b[0me\u001b[0m\u001b[0;34m:\u001b[0m\u001b[0;34m\u001b[0m\u001b[0;34m\u001b[0m\u001b[0m\n\u001b[1;32m   1029\u001b[0m             self.meta.events.emit(\n",
            "\u001b[0;32m/usr/local/lib/python3.10/dist-packages/botocore/endpoint.py\u001b[0m in \u001b[0;36mmake_request\u001b[0;34m(self, operation_model, request_dict)\u001b[0m\n\u001b[1;32m    117\u001b[0m             \u001b[0mrequest_dict\u001b[0m\u001b[0;34m,\u001b[0m\u001b[0;34m\u001b[0m\u001b[0;34m\u001b[0m\u001b[0m\n\u001b[1;32m    118\u001b[0m         )\n\u001b[0;32m--> 119\u001b[0;31m         \u001b[0;32mreturn\u001b[0m \u001b[0mself\u001b[0m\u001b[0;34m.\u001b[0m\u001b[0m_send_request\u001b[0m\u001b[0;34m(\u001b[0m\u001b[0mrequest_dict\u001b[0m\u001b[0;34m,\u001b[0m \u001b[0moperation_model\u001b[0m\u001b[0;34m)\u001b[0m\u001b[0;34m\u001b[0m\u001b[0;34m\u001b[0m\u001b[0m\n\u001b[0m\u001b[1;32m    120\u001b[0m \u001b[0;34m\u001b[0m\u001b[0m\n\u001b[1;32m    121\u001b[0m     \u001b[0;32mdef\u001b[0m \u001b[0mcreate_request\u001b[0m\u001b[0;34m(\u001b[0m\u001b[0mself\u001b[0m\u001b[0;34m,\u001b[0m \u001b[0mparams\u001b[0m\u001b[0;34m,\u001b[0m \u001b[0moperation_model\u001b[0m\u001b[0;34m=\u001b[0m\u001b[0;32mNone\u001b[0m\u001b[0;34m)\u001b[0m\u001b[0;34m:\u001b[0m\u001b[0;34m\u001b[0m\u001b[0;34m\u001b[0m\u001b[0m\n",
            "\u001b[0;32m/usr/local/lib/python3.10/dist-packages/botocore/endpoint.py\u001b[0m in \u001b[0;36m_send_request\u001b[0;34m(self, request_dict, operation_model)\u001b[0m\n\u001b[1;32m    197\u001b[0m         \u001b[0mself\u001b[0m\u001b[0;34m.\u001b[0m\u001b[0m_update_retries_context\u001b[0m\u001b[0;34m(\u001b[0m\u001b[0mcontext\u001b[0m\u001b[0;34m,\u001b[0m \u001b[0mattempts\u001b[0m\u001b[0;34m)\u001b[0m\u001b[0;34m\u001b[0m\u001b[0;34m\u001b[0m\u001b[0m\n\u001b[1;32m    198\u001b[0m         \u001b[0mrequest\u001b[0m \u001b[0;34m=\u001b[0m \u001b[0mself\u001b[0m\u001b[0;34m.\u001b[0m\u001b[0mcreate_request\u001b[0m\u001b[0;34m(\u001b[0m\u001b[0mrequest_dict\u001b[0m\u001b[0;34m,\u001b[0m \u001b[0moperation_model\u001b[0m\u001b[0;34m)\u001b[0m\u001b[0;34m\u001b[0m\u001b[0;34m\u001b[0m\u001b[0m\n\u001b[0;32m--> 199\u001b[0;31m         success_response, exception = self._get_response(\n\u001b[0m\u001b[1;32m    200\u001b[0m             \u001b[0mrequest\u001b[0m\u001b[0;34m,\u001b[0m \u001b[0moperation_model\u001b[0m\u001b[0;34m,\u001b[0m \u001b[0mcontext\u001b[0m\u001b[0;34m\u001b[0m\u001b[0;34m\u001b[0m\u001b[0m\n\u001b[1;32m    201\u001b[0m         )\n",
            "\u001b[0;32m/usr/local/lib/python3.10/dist-packages/botocore/endpoint.py\u001b[0m in \u001b[0;36m_get_response\u001b[0;34m(self, request, operation_model, context)\u001b[0m\n\u001b[1;32m    239\u001b[0m         \u001b[0;31m# If an exception occurs then the success_response is None.\u001b[0m\u001b[0;34m\u001b[0m\u001b[0;34m\u001b[0m\u001b[0m\n\u001b[1;32m    240\u001b[0m         \u001b[0;31m# If no exception occurs then exception is None.\u001b[0m\u001b[0;34m\u001b[0m\u001b[0;34m\u001b[0m\u001b[0m\n\u001b[0;32m--> 241\u001b[0;31m         success_response, exception = self._do_get_response(\n\u001b[0m\u001b[1;32m    242\u001b[0m             \u001b[0mrequest\u001b[0m\u001b[0;34m,\u001b[0m \u001b[0moperation_model\u001b[0m\u001b[0;34m,\u001b[0m \u001b[0mcontext\u001b[0m\u001b[0;34m\u001b[0m\u001b[0;34m\u001b[0m\u001b[0m\n\u001b[1;32m    243\u001b[0m         )\n",
            "\u001b[0;32m/usr/local/lib/python3.10/dist-packages/botocore/endpoint.py\u001b[0m in \u001b[0;36m_do_get_response\u001b[0;34m(self, request, operation_model, context)\u001b[0m\n\u001b[1;32m    279\u001b[0m             \u001b[0mhttp_response\u001b[0m \u001b[0;34m=\u001b[0m \u001b[0mfirst_non_none_response\u001b[0m\u001b[0;34m(\u001b[0m\u001b[0mresponses\u001b[0m\u001b[0;34m)\u001b[0m\u001b[0;34m\u001b[0m\u001b[0;34m\u001b[0m\u001b[0m\n\u001b[1;32m    280\u001b[0m             \u001b[0;32mif\u001b[0m \u001b[0mhttp_response\u001b[0m \u001b[0;32mis\u001b[0m \u001b[0;32mNone\u001b[0m\u001b[0;34m:\u001b[0m\u001b[0;34m\u001b[0m\u001b[0;34m\u001b[0m\u001b[0m\n\u001b[0;32m--> 281\u001b[0;31m                 \u001b[0mhttp_response\u001b[0m \u001b[0;34m=\u001b[0m \u001b[0mself\u001b[0m\u001b[0;34m.\u001b[0m\u001b[0m_send\u001b[0m\u001b[0;34m(\u001b[0m\u001b[0mrequest\u001b[0m\u001b[0;34m)\u001b[0m\u001b[0;34m\u001b[0m\u001b[0;34m\u001b[0m\u001b[0m\n\u001b[0m\u001b[1;32m    282\u001b[0m         \u001b[0;32mexcept\u001b[0m \u001b[0mHTTPClientError\u001b[0m \u001b[0;32mas\u001b[0m \u001b[0me\u001b[0m\u001b[0;34m:\u001b[0m\u001b[0;34m\u001b[0m\u001b[0;34m\u001b[0m\u001b[0m\n\u001b[1;32m    283\u001b[0m             \u001b[0;32mreturn\u001b[0m \u001b[0;34m(\u001b[0m\u001b[0;32mNone\u001b[0m\u001b[0;34m,\u001b[0m \u001b[0me\u001b[0m\u001b[0;34m)\u001b[0m\u001b[0;34m\u001b[0m\u001b[0;34m\u001b[0m\u001b[0m\n",
            "\u001b[0;32m/usr/local/lib/python3.10/dist-packages/botocore/endpoint.py\u001b[0m in \u001b[0;36m_send\u001b[0;34m(self, request)\u001b[0m\n\u001b[1;32m    375\u001b[0m \u001b[0;34m\u001b[0m\u001b[0m\n\u001b[1;32m    376\u001b[0m     \u001b[0;32mdef\u001b[0m \u001b[0m_send\u001b[0m\u001b[0;34m(\u001b[0m\u001b[0mself\u001b[0m\u001b[0;34m,\u001b[0m \u001b[0mrequest\u001b[0m\u001b[0;34m)\u001b[0m\u001b[0;34m:\u001b[0m\u001b[0;34m\u001b[0m\u001b[0;34m\u001b[0m\u001b[0m\n\u001b[0;32m--> 377\u001b[0;31m         \u001b[0;32mreturn\u001b[0m \u001b[0mself\u001b[0m\u001b[0;34m.\u001b[0m\u001b[0mhttp_session\u001b[0m\u001b[0;34m.\u001b[0m\u001b[0msend\u001b[0m\u001b[0;34m(\u001b[0m\u001b[0mrequest\u001b[0m\u001b[0;34m)\u001b[0m\u001b[0;34m\u001b[0m\u001b[0;34m\u001b[0m\u001b[0m\n\u001b[0m\u001b[1;32m    378\u001b[0m \u001b[0;34m\u001b[0m\u001b[0m\n\u001b[1;32m    379\u001b[0m \u001b[0;34m\u001b[0m\u001b[0m\n",
            "\u001b[0;32m/usr/local/lib/python3.10/dist-packages/botocore/httpsession.py\u001b[0m in \u001b[0;36msend\u001b[0;34m(self, request)\u001b[0m\n\u001b[1;32m    462\u001b[0m \u001b[0;34m\u001b[0m\u001b[0m\n\u001b[1;32m    463\u001b[0m             \u001b[0mrequest_target\u001b[0m \u001b[0;34m=\u001b[0m \u001b[0mself\u001b[0m\u001b[0;34m.\u001b[0m\u001b[0m_get_request_target\u001b[0m\u001b[0;34m(\u001b[0m\u001b[0mrequest\u001b[0m\u001b[0;34m.\u001b[0m\u001b[0murl\u001b[0m\u001b[0;34m,\u001b[0m \u001b[0mproxy_url\u001b[0m\u001b[0;34m)\u001b[0m\u001b[0;34m\u001b[0m\u001b[0;34m\u001b[0m\u001b[0m\n\u001b[0;32m--> 464\u001b[0;31m             urllib_response = conn.urlopen(\n\u001b[0m\u001b[1;32m    465\u001b[0m                 \u001b[0mmethod\u001b[0m\u001b[0;34m=\u001b[0m\u001b[0mrequest\u001b[0m\u001b[0;34m.\u001b[0m\u001b[0mmethod\u001b[0m\u001b[0;34m,\u001b[0m\u001b[0;34m\u001b[0m\u001b[0;34m\u001b[0m\u001b[0m\n\u001b[1;32m    466\u001b[0m                 \u001b[0murl\u001b[0m\u001b[0;34m=\u001b[0m\u001b[0mrequest_target\u001b[0m\u001b[0;34m,\u001b[0m\u001b[0;34m\u001b[0m\u001b[0;34m\u001b[0m\u001b[0m\n",
            "\u001b[0;32m/usr/local/lib/python3.10/dist-packages/urllib3/connectionpool.py\u001b[0m in \u001b[0;36murlopen\u001b[0;34m(self, method, url, body, headers, retries, redirect, assert_same_host, timeout, pool_timeout, release_conn, chunked, body_pos, preload_content, decode_content, **response_kw)\u001b[0m\n\u001b[1;32m    789\u001b[0m \u001b[0;34m\u001b[0m\u001b[0m\n\u001b[1;32m    790\u001b[0m             \u001b[0;31m# Make the request on the HTTPConnection object\u001b[0m\u001b[0;34m\u001b[0m\u001b[0;34m\u001b[0m\u001b[0m\n\u001b[0;32m--> 791\u001b[0;31m             response = self._make_request(\n\u001b[0m\u001b[1;32m    792\u001b[0m                 \u001b[0mconn\u001b[0m\u001b[0;34m,\u001b[0m\u001b[0;34m\u001b[0m\u001b[0;34m\u001b[0m\u001b[0m\n\u001b[1;32m    793\u001b[0m                 \u001b[0mmethod\u001b[0m\u001b[0;34m,\u001b[0m\u001b[0;34m\u001b[0m\u001b[0;34m\u001b[0m\u001b[0m\n",
            "\u001b[0;32m/usr/local/lib/python3.10/dist-packages/urllib3/connectionpool.py\u001b[0m in \u001b[0;36m_make_request\u001b[0;34m(self, conn, method, url, body, headers, retries, timeout, chunked, response_conn, preload_content, decode_content, enforce_content_length)\u001b[0m\n\u001b[1;32m    535\u001b[0m         \u001b[0;31m# Receive the response from the server\u001b[0m\u001b[0;34m\u001b[0m\u001b[0;34m\u001b[0m\u001b[0m\n\u001b[1;32m    536\u001b[0m         \u001b[0;32mtry\u001b[0m\u001b[0;34m:\u001b[0m\u001b[0;34m\u001b[0m\u001b[0;34m\u001b[0m\u001b[0m\n\u001b[0;32m--> 537\u001b[0;31m             \u001b[0mresponse\u001b[0m \u001b[0;34m=\u001b[0m \u001b[0mconn\u001b[0m\u001b[0;34m.\u001b[0m\u001b[0mgetresponse\u001b[0m\u001b[0;34m(\u001b[0m\u001b[0;34m)\u001b[0m\u001b[0;34m\u001b[0m\u001b[0;34m\u001b[0m\u001b[0m\n\u001b[0m\u001b[1;32m    538\u001b[0m         \u001b[0;32mexcept\u001b[0m \u001b[0;34m(\u001b[0m\u001b[0mBaseSSLError\u001b[0m\u001b[0;34m,\u001b[0m \u001b[0mOSError\u001b[0m\u001b[0;34m)\u001b[0m \u001b[0;32mas\u001b[0m \u001b[0me\u001b[0m\u001b[0;34m:\u001b[0m\u001b[0;34m\u001b[0m\u001b[0;34m\u001b[0m\u001b[0m\n\u001b[1;32m    539\u001b[0m             \u001b[0mself\u001b[0m\u001b[0;34m.\u001b[0m\u001b[0m_raise_timeout\u001b[0m\u001b[0;34m(\u001b[0m\u001b[0merr\u001b[0m\u001b[0;34m=\u001b[0m\u001b[0me\u001b[0m\u001b[0;34m,\u001b[0m \u001b[0murl\u001b[0m\u001b[0;34m=\u001b[0m\u001b[0murl\u001b[0m\u001b[0;34m,\u001b[0m \u001b[0mtimeout_value\u001b[0m\u001b[0;34m=\u001b[0m\u001b[0mread_timeout\u001b[0m\u001b[0;34m)\u001b[0m\u001b[0;34m\u001b[0m\u001b[0;34m\u001b[0m\u001b[0m\n",
            "\u001b[0;32m/usr/local/lib/python3.10/dist-packages/urllib3/connection.py\u001b[0m in \u001b[0;36mgetresponse\u001b[0;34m(self)\u001b[0m\n\u001b[1;32m    459\u001b[0m \u001b[0;34m\u001b[0m\u001b[0m\n\u001b[1;32m    460\u001b[0m         \u001b[0;31m# Get the response from http.client.HTTPConnection\u001b[0m\u001b[0;34m\u001b[0m\u001b[0;34m\u001b[0m\u001b[0m\n\u001b[0;32m--> 461\u001b[0;31m         \u001b[0mhttplib_response\u001b[0m \u001b[0;34m=\u001b[0m \u001b[0msuper\u001b[0m\u001b[0;34m(\u001b[0m\u001b[0;34m)\u001b[0m\u001b[0;34m.\u001b[0m\u001b[0mgetresponse\u001b[0m\u001b[0;34m(\u001b[0m\u001b[0;34m)\u001b[0m\u001b[0;34m\u001b[0m\u001b[0;34m\u001b[0m\u001b[0m\n\u001b[0m\u001b[1;32m    462\u001b[0m \u001b[0;34m\u001b[0m\u001b[0m\n\u001b[1;32m    463\u001b[0m         \u001b[0;32mtry\u001b[0m\u001b[0;34m:\u001b[0m\u001b[0;34m\u001b[0m\u001b[0;34m\u001b[0m\u001b[0m\n",
            "\u001b[0;32m/usr/lib/python3.10/http/client.py\u001b[0m in \u001b[0;36mgetresponse\u001b[0;34m(self)\u001b[0m\n\u001b[1;32m   1373\u001b[0m         \u001b[0;32mtry\u001b[0m\u001b[0;34m:\u001b[0m\u001b[0;34m\u001b[0m\u001b[0;34m\u001b[0m\u001b[0m\n\u001b[1;32m   1374\u001b[0m             \u001b[0;32mtry\u001b[0m\u001b[0;34m:\u001b[0m\u001b[0;34m\u001b[0m\u001b[0;34m\u001b[0m\u001b[0m\n\u001b[0;32m-> 1375\u001b[0;31m                 \u001b[0mresponse\u001b[0m\u001b[0;34m.\u001b[0m\u001b[0mbegin\u001b[0m\u001b[0;34m(\u001b[0m\u001b[0;34m)\u001b[0m\u001b[0;34m\u001b[0m\u001b[0;34m\u001b[0m\u001b[0m\n\u001b[0m\u001b[1;32m   1376\u001b[0m             \u001b[0;32mexcept\u001b[0m \u001b[0mConnectionError\u001b[0m\u001b[0;34m:\u001b[0m\u001b[0;34m\u001b[0m\u001b[0;34m\u001b[0m\u001b[0m\n\u001b[1;32m   1377\u001b[0m                 \u001b[0mself\u001b[0m\u001b[0;34m.\u001b[0m\u001b[0mclose\u001b[0m\u001b[0;34m(\u001b[0m\u001b[0;34m)\u001b[0m\u001b[0;34m\u001b[0m\u001b[0;34m\u001b[0m\u001b[0m\n",
            "\u001b[0;32m/usr/lib/python3.10/http/client.py\u001b[0m in \u001b[0;36mbegin\u001b[0;34m(self)\u001b[0m\n\u001b[1;32m    316\u001b[0m         \u001b[0;31m# read until we get a non-100 response\u001b[0m\u001b[0;34m\u001b[0m\u001b[0;34m\u001b[0m\u001b[0m\n\u001b[1;32m    317\u001b[0m         \u001b[0;32mwhile\u001b[0m \u001b[0;32mTrue\u001b[0m\u001b[0;34m:\u001b[0m\u001b[0;34m\u001b[0m\u001b[0;34m\u001b[0m\u001b[0m\n\u001b[0;32m--> 318\u001b[0;31m             \u001b[0mversion\u001b[0m\u001b[0;34m,\u001b[0m \u001b[0mstatus\u001b[0m\u001b[0;34m,\u001b[0m \u001b[0mreason\u001b[0m \u001b[0;34m=\u001b[0m \u001b[0mself\u001b[0m\u001b[0;34m.\u001b[0m\u001b[0m_read_status\u001b[0m\u001b[0;34m(\u001b[0m\u001b[0;34m)\u001b[0m\u001b[0;34m\u001b[0m\u001b[0;34m\u001b[0m\u001b[0m\n\u001b[0m\u001b[1;32m    319\u001b[0m             \u001b[0;32mif\u001b[0m \u001b[0mstatus\u001b[0m \u001b[0;34m!=\u001b[0m \u001b[0mCONTINUE\u001b[0m\u001b[0;34m:\u001b[0m\u001b[0;34m\u001b[0m\u001b[0;34m\u001b[0m\u001b[0m\n\u001b[1;32m    320\u001b[0m                 \u001b[0;32mbreak\u001b[0m\u001b[0;34m\u001b[0m\u001b[0;34m\u001b[0m\u001b[0m\n",
            "\u001b[0;32m/usr/lib/python3.10/http/client.py\u001b[0m in \u001b[0;36m_read_status\u001b[0;34m(self)\u001b[0m\n\u001b[1;32m    277\u001b[0m \u001b[0;34m\u001b[0m\u001b[0m\n\u001b[1;32m    278\u001b[0m     \u001b[0;32mdef\u001b[0m \u001b[0m_read_status\u001b[0m\u001b[0;34m(\u001b[0m\u001b[0mself\u001b[0m\u001b[0;34m)\u001b[0m\u001b[0;34m:\u001b[0m\u001b[0;34m\u001b[0m\u001b[0;34m\u001b[0m\u001b[0m\n\u001b[0;32m--> 279\u001b[0;31m         \u001b[0mline\u001b[0m \u001b[0;34m=\u001b[0m \u001b[0mstr\u001b[0m\u001b[0;34m(\u001b[0m\u001b[0mself\u001b[0m\u001b[0;34m.\u001b[0m\u001b[0mfp\u001b[0m\u001b[0;34m.\u001b[0m\u001b[0mreadline\u001b[0m\u001b[0;34m(\u001b[0m\u001b[0m_MAXLINE\u001b[0m \u001b[0;34m+\u001b[0m \u001b[0;36m1\u001b[0m\u001b[0;34m)\u001b[0m\u001b[0;34m,\u001b[0m \u001b[0;34m\"iso-8859-1\"\u001b[0m\u001b[0;34m)\u001b[0m\u001b[0;34m\u001b[0m\u001b[0;34m\u001b[0m\u001b[0m\n\u001b[0m\u001b[1;32m    280\u001b[0m         \u001b[0;32mif\u001b[0m \u001b[0mlen\u001b[0m\u001b[0;34m(\u001b[0m\u001b[0mline\u001b[0m\u001b[0;34m)\u001b[0m \u001b[0;34m>\u001b[0m \u001b[0m_MAXLINE\u001b[0m\u001b[0;34m:\u001b[0m\u001b[0;34m\u001b[0m\u001b[0;34m\u001b[0m\u001b[0m\n\u001b[1;32m    281\u001b[0m             \u001b[0;32mraise\u001b[0m \u001b[0mLineTooLong\u001b[0m\u001b[0;34m(\u001b[0m\u001b[0;34m\"status line\"\u001b[0m\u001b[0;34m)\u001b[0m\u001b[0;34m\u001b[0m\u001b[0;34m\u001b[0m\u001b[0m\n",
            "\u001b[0;32m/usr/lib/python3.10/socket.py\u001b[0m in \u001b[0;36mreadinto\u001b[0;34m(self, b)\u001b[0m\n\u001b[1;32m    703\u001b[0m         \u001b[0;32mwhile\u001b[0m \u001b[0;32mTrue\u001b[0m\u001b[0;34m:\u001b[0m\u001b[0;34m\u001b[0m\u001b[0;34m\u001b[0m\u001b[0m\n\u001b[1;32m    704\u001b[0m             \u001b[0;32mtry\u001b[0m\u001b[0;34m:\u001b[0m\u001b[0;34m\u001b[0m\u001b[0;34m\u001b[0m\u001b[0m\n\u001b[0;32m--> 705\u001b[0;31m                 \u001b[0;32mreturn\u001b[0m \u001b[0mself\u001b[0m\u001b[0;34m.\u001b[0m\u001b[0m_sock\u001b[0m\u001b[0;34m.\u001b[0m\u001b[0mrecv_into\u001b[0m\u001b[0;34m(\u001b[0m\u001b[0mb\u001b[0m\u001b[0;34m)\u001b[0m\u001b[0;34m\u001b[0m\u001b[0;34m\u001b[0m\u001b[0m\n\u001b[0m\u001b[1;32m    706\u001b[0m             \u001b[0;32mexcept\u001b[0m \u001b[0mtimeout\u001b[0m\u001b[0;34m:\u001b[0m\u001b[0;34m\u001b[0m\u001b[0;34m\u001b[0m\u001b[0m\n\u001b[1;32m    707\u001b[0m                 \u001b[0mself\u001b[0m\u001b[0;34m.\u001b[0m\u001b[0m_timeout_occurred\u001b[0m \u001b[0;34m=\u001b[0m \u001b[0;32mTrue\u001b[0m\u001b[0;34m\u001b[0m\u001b[0;34m\u001b[0m\u001b[0m\n",
            "\u001b[0;32m/usr/lib/python3.10/ssl.py\u001b[0m in \u001b[0;36mrecv_into\u001b[0;34m(self, buffer, nbytes, flags)\u001b[0m\n\u001b[1;32m   1301\u001b[0m                   \u001b[0;34m\"non-zero flags not allowed in calls to recv_into() on %s\"\u001b[0m \u001b[0;34m%\u001b[0m\u001b[0;34m\u001b[0m\u001b[0;34m\u001b[0m\u001b[0m\n\u001b[1;32m   1302\u001b[0m                   self.__class__)\n\u001b[0;32m-> 1303\u001b[0;31m             \u001b[0;32mreturn\u001b[0m \u001b[0mself\u001b[0m\u001b[0;34m.\u001b[0m\u001b[0mread\u001b[0m\u001b[0;34m(\u001b[0m\u001b[0mnbytes\u001b[0m\u001b[0;34m,\u001b[0m \u001b[0mbuffer\u001b[0m\u001b[0;34m)\u001b[0m\u001b[0;34m\u001b[0m\u001b[0;34m\u001b[0m\u001b[0m\n\u001b[0m\u001b[1;32m   1304\u001b[0m         \u001b[0;32melse\u001b[0m\u001b[0;34m:\u001b[0m\u001b[0;34m\u001b[0m\u001b[0;34m\u001b[0m\u001b[0m\n\u001b[1;32m   1305\u001b[0m             \u001b[0;32mreturn\u001b[0m \u001b[0msuper\u001b[0m\u001b[0;34m(\u001b[0m\u001b[0;34m)\u001b[0m\u001b[0;34m.\u001b[0m\u001b[0mrecv_into\u001b[0m\u001b[0;34m(\u001b[0m\u001b[0mbuffer\u001b[0m\u001b[0;34m,\u001b[0m \u001b[0mnbytes\u001b[0m\u001b[0;34m,\u001b[0m \u001b[0mflags\u001b[0m\u001b[0;34m)\u001b[0m\u001b[0;34m\u001b[0m\u001b[0;34m\u001b[0m\u001b[0m\n",
            "\u001b[0;32m/usr/lib/python3.10/ssl.py\u001b[0m in \u001b[0;36mread\u001b[0;34m(self, len, buffer)\u001b[0m\n\u001b[1;32m   1157\u001b[0m         \u001b[0;32mtry\u001b[0m\u001b[0;34m:\u001b[0m\u001b[0;34m\u001b[0m\u001b[0;34m\u001b[0m\u001b[0m\n\u001b[1;32m   1158\u001b[0m             \u001b[0;32mif\u001b[0m \u001b[0mbuffer\u001b[0m \u001b[0;32mis\u001b[0m \u001b[0;32mnot\u001b[0m \u001b[0;32mNone\u001b[0m\u001b[0;34m:\u001b[0m\u001b[0;34m\u001b[0m\u001b[0;34m\u001b[0m\u001b[0m\n\u001b[0;32m-> 1159\u001b[0;31m                 \u001b[0;32mreturn\u001b[0m \u001b[0mself\u001b[0m\u001b[0;34m.\u001b[0m\u001b[0m_sslobj\u001b[0m\u001b[0;34m.\u001b[0m\u001b[0mread\u001b[0m\u001b[0;34m(\u001b[0m\u001b[0mlen\u001b[0m\u001b[0;34m,\u001b[0m \u001b[0mbuffer\u001b[0m\u001b[0;34m)\u001b[0m\u001b[0;34m\u001b[0m\u001b[0;34m\u001b[0m\u001b[0m\n\u001b[0m\u001b[1;32m   1160\u001b[0m             \u001b[0;32melse\u001b[0m\u001b[0;34m:\u001b[0m\u001b[0;34m\u001b[0m\u001b[0;34m\u001b[0m\u001b[0m\n\u001b[1;32m   1161\u001b[0m                 \u001b[0;32mreturn\u001b[0m \u001b[0mself\u001b[0m\u001b[0;34m.\u001b[0m\u001b[0m_sslobj\u001b[0m\u001b[0;34m.\u001b[0m\u001b[0mread\u001b[0m\u001b[0;34m(\u001b[0m\u001b[0mlen\u001b[0m\u001b[0;34m)\u001b[0m\u001b[0;34m\u001b[0m\u001b[0;34m\u001b[0m\u001b[0m\n",
            "\u001b[0;31mKeyboardInterrupt\u001b[0m: "
          ]
        }
      ]
    }
  ]
}